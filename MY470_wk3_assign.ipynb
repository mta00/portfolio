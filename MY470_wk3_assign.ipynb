{
 "cells": [
  {
   "cell_type": "markdown",
   "metadata": {
    "slideshow": {
     "slide_type": "slide"
    }
   },
   "source": [
    "### MY470 Computer Programming\n",
    "\n",
    "### Week 3 Assignment, MT 2022\n",
    "\n",
    "#### \\*\\*\\* Due 12:00 noon on Monday, October 17 \\*\\*\\*"
   ]
  },
  {
   "cell_type": "markdown",
   "metadata": {
    "slideshow": {
     "slide_type": "slide"
    }
   },
   "source": [
    "---\n",
    "### Working with data files\n",
    "\n",
    "For this assignment, we will use data from the file ca-GrQc.txt. The file contains the co-authorship links for articles in the ArXiv category General Relativity. Each line in the file includes the ids of two authors who have worked together on at least one article. In network analysis parlance, this is known as an \"edge list\". The data are obtained from the [Stanford Large Network Dataset Collection](https://snap.stanford.edu/data/index.html) and you can find more information about them on https://snap.stanford.edu/data/ca-GrQc.html.\n",
    "\n",
    "#### Hints\n",
    "\n",
    "The problems below need to be done in sequence because objects (lists, dictionaries, etc.) you create in early problems may be needed for a later problem. However, if you don't manage to obtain these objects at the beginning, just use fictitious ones, e.g. `[13, 14, 22, 24, 25, 26, 27, 28, 29, 45]` or `{13: [13, 7596, 11196, 19170], 14: [14171]}`. "
   ]
  },
  {
   "cell_type": "markdown",
   "metadata": {},
   "source": [
    "### Problem 1: Get all coauthorships in a list of lists\n",
    "\n",
    "Create a list that contains all edges included in the data file as lists of the two authors' ids, where the ids are saved as integers. Your list should look like [[3466, 937], [3466, 5233], ...]. To achieve this, use a `for` loop to iterate over each line in the file. One way to do this is as follows:\n",
    "\n",
    "```\n",
    "for line in open('ca-GrQc.txt', 'r'):\n",
    "    do something with line\n",
    "```\n",
    "\n",
    "⚡️ Notice that this is a more efficient way to read data than `file.read()`, which we used in Assignment 2, as you don't load all data in memory but stream them line by line. \n",
    "\n",
    "Print the first 10 entries in your list. \n",
    "\n",
    "#### Hints\n",
    "\n",
    "It is a good practice to write and test your initial code using a smaller version of the dataset. This will help you debug faster. It will also allow you to manually check for possible errors. \n",
    "\n",
    "You need to ignore the first four lines of the file that contain explanatory text.\n",
    "\n",
    "In the file, the two author ids are separated with tabs and the tab character is encoded as `'\\t'`.\n"
   ]
  },
  {
   "cell_type": "code",
   "execution_count": 2,
   "metadata": {},
   "outputs": [
    {
     "data": {
      "text/plain": [
       "[[3466, 937],\n",
       " [3466, 5233],\n",
       " [3466, 8579],\n",
       " [3466, 10310],\n",
       " [3466, 15931],\n",
       " [3466, 17038],\n",
       " [3466, 18720],\n",
       " [3466, 19607],\n",
       " [10310, 1854],\n",
       " [10310, 3466]]"
      ]
     },
     "execution_count": 2,
     "metadata": {},
     "output_type": "execute_result"
    }
   ],
   "source": [
    "# Enter your answer to Problem 1 here. \n",
    "\n",
    "lst = []\n",
    "\n",
    "for line in open('ca-GrQc.txt', 'r'):\n",
    "    line = line.replace(\"\\t\",\" \").replace(\"\\n\",\"\")\n",
    "    if len(line.split()) == 2:\n",
    "        line_list_int = [int(i) for i in line.split()]\n",
    "        lst.append(line_list_int)       \n",
    "\n",
    "lst[:10]"
   ]
  },
  {
   "cell_type": "markdown",
   "metadata": {},
   "source": [
    "### Problem 2: Who are the authors in the data?\n",
    "\n",
    "Create a sorted list with the integer ids for all of the unique authors in the dataset. Print the first 10 authors in the list. Then print how many authors there are in total.\n",
    "\n",
    "Then, using a dictionary comprehension, create a dictionary in which the keys are the author integer ids and the values are empty lists. The dictionary should look something like: `{13: [], 14: [], 22: [], ...}`. To confirm, print the dictionary values for the authors in the list `[13, 14, 22, 24, 25, 26, 27, 28, 29, 45]`.\n",
    "\n",
    "#### Hints\n",
    "\n",
    "Note that if the edge *i–j* is in the data, then the edge *j–i* is also there. This means that for this task you don't need to consider the second author in the line. You can get all authors by collecting just the first author in each line in the file."
   ]
  },
  {
   "cell_type": "code",
   "execution_count": 56,
   "metadata": {
    "scrolled": false
   },
   "outputs": [
    {
     "name": "stdout",
     "output_type": "stream",
     "text": [
      "[13, 14, 22, 24, 25, 26, 27, 28, 29, 45]\n",
      "5232\n"
     ]
    },
    {
     "data": {
      "text/plain": [
       "[[], [], [], [], [], [], [], [], [], []]"
      ]
     },
     "execution_count": 56,
     "metadata": {},
     "output_type": "execute_result"
    }
   ],
   "source": [
    "# Enter your answer to Problem 2 here.\n",
    "all_ids = []\n",
    "\n",
    "for l in lst:\n",
    "    for i in l:\n",
    "        if i not in all_ids:\n",
    "            all_ids.append(i)\n",
    "\n",
    "all_ids_sorted = sorted(all_ids)\n",
    "\n",
    "print(all_ids_sorted[:10])\n",
    "print(len(all_ids)-10)\n",
    "\n",
    "dic = {key : [] for key in all_ids_sorted}\n",
    "[dic[i] for i in all_ids_sorted[:10]]"
   ]
  },
  {
   "cell_type": "markdown",
   "metadata": {},
   "source": [
    "---\n",
    "### Problem 3: Get each author's coauthors\n",
    "\n",
    "Enter each author's unique coauthors in the empty dictionary you created in Problem 2. The dictionary should now look something like: `{13: [7596, 11196, 19170], 14: [14171], ...}`.\n",
    "\n",
    "Print the list of coauthors for the authors in the list `[13, 14, 22, 24, 25, 26, 27, 28, 29, 45]`.\n",
    "\n",
    "#### Hints\n",
    "\n",
    "Notice that the data contain errors. For example, I noticed that the data say that author 13 coauthored with himself/herself, which is meaningless. To get the maximum number of points, your code should exclude oneself in one's list of coauthors."
   ]
  },
  {
   "cell_type": "code",
   "execution_count": 67,
   "metadata": {},
   "outputs": [
    {
     "name": "stdout",
     "output_type": "stream",
     "text": [
      "13 [7596, 11196, 19170]\n",
      "14 [14171]\n",
      "22 [106, 11183, 15793, 19440, 22618, 25043]\n",
      "24 [19517, 3858, 23161, 15774]\n",
      "25 [22891]\n",
      "26 [13096, 11801, 4550, 13142, 1407]\n",
      "27 [25540, 24726, 19081, 11114]\n",
      "28 [7916]\n",
      "29 [20243]\n",
      "45 [6610, 21012, 22691, 18866, 25758, 11241, 570, 18719, 773, 21847, 6179, 2741, 14807, 24955, 1186, 1653, 2212, 2952, 3372, 4164, 4180, 4511, 4513, 6830, 7956, 8879, 9785, 11472, 12365, 12496, 12679, 12781, 12851, 14540, 15003, 15659, 17655, 17692, 18894, 19423, 19961, 20108, 20562, 20635, 21281, 21508, 22887, 23293, 25346]\n"
     ]
    }
   ],
   "source": [
    "# Enter your answer to Problem 3 here. \n",
    "authors_list = [13, 14, 22, 24, 25, 26, 27, 28, 29, 45]\n",
    "\n",
    "for a in authors_list:\n",
    "    for l in lst:\n",
    "        for i in l:\n",
    "            if a in l and i != a and i not in dic[a]:\n",
    "                dic[a].append(i)\n",
    "                \n",
    "for i in authors_list:\n",
    "    print(i, dic[i])"
   ]
  },
  {
   "cell_type": "markdown",
   "metadata": {},
   "source": [
    "---\n",
    "### Problem 4: Who has the most coauthors?\n",
    "\n",
    "Find the author who has the most coauthors. Print the id of that author and the number of coauthors they have. \n",
    "\n",
    "Solve this problem using iteration and conditionals; you are not allowed to use external modules. \n"
   ]
  },
  {
   "cell_type": "code",
   "execution_count": 69,
   "metadata": {},
   "outputs": [
    {
     "name": "stdout",
     "output_type": "stream",
     "text": [
      "45\n"
     ]
    }
   ],
   "source": [
    "# Enter your answer to Problem 4 here. \n",
    "# Source: Python documentation, https://docs.python.org/3/library/stdtypes.html#mutable-sequence-types, l.index() function\n",
    "num_coauth = []\n",
    "\n",
    "for i in authors_list:\n",
    "    num_coauth.append(len(dic[i]))\n",
    "\n",
    "print(authors_list[num_coauth.index(max(num_coauth))])"
   ]
  },
  {
   "cell_type": "markdown",
   "metadata": {},
   "source": [
    "---\n",
    "\n",
    "### Evaluation\n",
    "\n",
    "| Problem | Mark     | Comment   \n",
    "|:-------:|:--------:|:----------------------\n",
    "| 1       |   /3    |              \n",
    "| 2       |   /4    | \n",
    "| 3       |   /3    | \n",
    "| 4       |   /4    | \n",
    "| Code legibility       |   /2    | \n",
    "| Code efficiency      |   /4    | \n",
    "|**Total**|**/20**  | \n"
   ]
  }
 ],
 "metadata": {
  "kernelspec": {
   "display_name": "Python 3 (ipykernel)",
   "language": "python",
   "name": "python3"
  },
  "language_info": {
   "codemirror_mode": {
    "name": "ipython",
    "version": 3
   },
   "file_extension": ".py",
   "mimetype": "text/x-python",
   "name": "python",
   "nbconvert_exporter": "python",
   "pygments_lexer": "ipython3",
   "version": "3.9.12"
  }
 },
 "nbformat": 4,
 "nbformat_minor": 2
}
