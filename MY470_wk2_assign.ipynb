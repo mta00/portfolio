{
 "cells": [
  {
   "cell_type": "markdown",
   "metadata": {
    "slideshow": {
     "slide_type": "slide"
    }
   },
   "source": [
    "### MY470 Computer Programming\n",
    "\n",
    "### Week 2 Assignment, MT 2022\n",
    "\n",
    "#### \\*\\*\\* Due 12:00 noon on Monday, October 10 \\*\\*\\*"
   ]
  },
  {
   "cell_type": "markdown",
   "metadata": {
    "slideshow": {
     "slide_type": "slide"
    }
   },
   "source": [
    "---\n",
    "### Working with text\n",
    "\n",
    "For this assignment, we will use the text in the file kafka_trial.txt. The file contains the first paragraph from Franz Kafka's book *The Trial*, which you can find on [Project Gutenberg](http://www.gutenberg.org/ebooks/7849)."
   ]
  },
  {
   "cell_type": "markdown",
   "metadata": {},
   "source": [
    "### Problem 1: How many words?\n",
    "\n",
    "Print the number of words in the text. Enter your code in the cell below. The cell already contains code that takes the text from the file and saves it as a string in the variable txt. Note that the text contains new line characters \"\\n\".\n",
    "\n",
    "#### Hints\n",
    "\n",
    "Count words with apostrophes, e.g. \"didn't\", as one word. Do not count punctuation marks, e.g. hyphens \"-\", as words. Attention to detail is important here!"
   ]
  },
  {
   "cell_type": "code",
   "execution_count": 64,
   "metadata": {
    "scrolled": true
   },
   "outputs": [
    {
     "name": "stdout",
     "output_type": "stream",
     "text": [
      "Someone must have been telling lies about Josef K., he knew he had\n",
      "done nothing wrong but, one morning, he was arrested.  Every day at\n",
      "eight in the morning he was brought his breakfast by  Mrs. Grubach's\n",
      "cook - Mrs. Grubach was his landlady - but today she didn't come.  That\n",
      "had never happened before.  K. waited a little while, looked from his\n",
      "pillow at the old woman who lived opposite and who was watching him with\n",
      "an inquisitiveness quite unusual for her, and finally, both hungry and\n",
      "disconcert\n",
      "1426\n"
     ]
    }
   ],
   "source": [
    "# Open the file and get the text into a string variable called txt\n",
    "with open('kafka_trial.txt') as f:\n",
    "    txt = f.read()\n",
    "print(txt[:500]) # Show the first 500 characters of the txt variable\n",
    "\n",
    "# Enter your answer to Problem 1 below. \n",
    "print(len(txt.strip().replace(\"\\n\",\" \").replace(\"\\'\",\"\").replace(\"-\",\"\").replace(\".\",\"\").split()))\n",
    "\n"
   ]
  },
  {
   "cell_type": "markdown",
   "metadata": {},
   "source": [
    "---\n",
    "### Problem 2: How many unique words?\n",
    "\n",
    "Print the number of unique words in the text. Enter your code in the cell below. \n",
    "\n",
    "#### Hints\n",
    "\n",
    "Count contractions, e.g. \"didn't\", and possessives , e.g. \"policeman's\", as distinct words but ignore formatting such as capitalization and quotation marks. "
   ]
  },
  {
   "cell_type": "code",
   "execution_count": 63,
   "metadata": {},
   "outputs": [
    {
     "name": "stdout",
     "output_type": "stream",
     "text": [
      "506\n"
     ]
    }
   ],
   "source": [
    "# Enter your answer to Problem 2 here. Note that you can reuse code\n",
    "# from any code cells above, as long as you have run the code \n",
    "# previously in the current kernel session.\n",
    "print(len(set(txt.strip().replace(\"\\n\",\" \").replace(\"\\'\",\"\").replace(\"-\",\"\").replace(\".\",\"\").replace('\"','').replace(\",\",\"\").replace(\";\",\"\").replace(\"?\",\"\").lower().split())))\n"
   ]
  },
  {
   "cell_type": "markdown",
   "metadata": {},
   "source": [
    "---\n",
    "### Problem 3: How common are certain words?\n",
    "\n",
    "Consider the words \"the\", \"a\", \"and\", \"man\", and \"time\". Create a dictionary where each of these words is a key and the value is the number of times the word appears in the text. Then print five lines of text, each containing one of the words and the number of times it appears. Your answer should look as follows, where `XX` is the corresponding count:\n",
    "```\n",
    "the: XX\n",
    "a: XX\n",
    "and: XX\n",
    "man: XX\n",
    "time: XX\n",
    "```"
   ]
  },
  {
   "cell_type": "code",
   "execution_count": 52,
   "metadata": {},
   "outputs": [
    {
     "name": "stdout",
     "output_type": "stream",
     "text": [
      "the:  61\n",
      "a:  20\n",
      "and:  37\n",
      "man:  9\n",
      "time:  7\n"
     ]
    }
   ],
   "source": [
    "# Enter your answer to Problem 3 here. \n",
    "# Source: Python Documentation, s.count(x) operation, https://docs.python.org/3/library/stdtypes.html#mutable-sequence-types\n",
    "\n",
    "# Create a list of all words in the text, having removed all punctuation marks and capitalization\n",
    "all_words_list = txt.strip().replace(\"\\n\",\" \").replace(\"\\'\",\"\").replace(\"-\",\"\").replace(\".\",\"\").replace('\"','').replace(\",\",\"\").replace(\";\",\"\").replace(\"?\",\"\").lower().split()\n",
    "\n",
    "# Create a dictionary with the words as keys and their frequency in the list above as values\n",
    "word_frequency_dict = {\"the\":all_words_list.count(\"the\"),\"a\":all_words_list.count(\"a\"),\"and\":all_words_list.count(\"and\"), \"man\":all_words_list.count(\"man\"),\"time\":all_words_list.count(\"time\")}\n",
    "\n",
    "print(\"the: \",word_frequency_dict[\"the\"])\n",
    "print(\"a: \",word_frequency_dict[\"a\"])\n",
    "print(\"and: \",word_frequency_dict[\"and\"])\n",
    "print(\"man: \",word_frequency_dict[\"man\"])\n",
    "print(\"time: \",word_frequency_dict[\"time\"])"
   ]
  },
  {
   "cell_type": "markdown",
   "metadata": {},
   "source": [
    "---\n",
    "### Problem 4: Sort the words alphabetically\n",
    "\n",
    "Sort the unique words in the text alphabetically. Then print the first 10 unique words in alphabetical order. Then print the last 10 unique words in reverse alphabetical order.\n",
    "\n",
    "#### Hints\n",
    "\n",
    "Think about efficiency here and avoid unnecessary operations.\n",
    " "
   ]
  },
  {
   "cell_type": "code",
   "execution_count": 62,
   "metadata": {
    "scrolled": false
   },
   "outputs": [
    {
     "name": "stdout",
     "output_type": "stream",
     "text": [
      "['a', 'about', 'accepted', 'accost', 'acknowledged', 'acquaintance', 'act', 'acted', 'actually', 'advantage']\n",
      "['youve', 'yourself', 'youre', 'your', 'youll', 'youd', 'you', 'year', 'wrong', 'wouldnt']\n"
     ]
    }
   ],
   "source": [
    "# Enter your answer to Problem 4 here. \n",
    "\n",
    "# Get a list of all unique words in the text by removing puctuation, capitalization and creating a set\n",
    "unique_words = set(txt.strip().replace(\"\\n\",\" \").replace(\"\\'\",\"\").replace(\"-\",\"\").replace(\".\",\"\").replace('\"','').replace(\",\",\"\").replace(\";\",\"\").replace(\"?\",\"\").lower().split())\n",
    "\n",
    "# Set it in alphabetical order by using sorted\n",
    "unique_words_alphabetical = sorted(unique_words)\n",
    "\n",
    "# Print first 10 unique words\n",
    "print(unique_words_alphabetical[:10])\n",
    "\n",
    "# Set it in reverse alphabetical order by setting reverse to True\n",
    "unique_words_alphabetical_reverse = sorted(unique_words, reverse = True)\n",
    "\n",
    "# Print first 10 unique words\n",
    "print(unique_words_alphabetical_reverse[:10])\n"
   ]
  },
  {
   "cell_type": "markdown",
   "metadata": {},
   "source": [
    "---\n",
    "\n",
    "### Evaluation\n",
    "\n",
    "| Problem | Mark     | Comment   \n",
    "|:-------:|:--------:|:----------------------\n",
    "| 1       |   /4    |              \n",
    "| 2       |   /3    | \n",
    "| 3       |   /4    | \n",
    "| 4       |   /3    | \n",
    "| Correct submission       |   /2    | \n",
    "| Code legibility | /4    | \n",
    "|**Total**|**/20**  | "
   ]
  }
 ],
 "metadata": {
  "kernelspec": {
   "display_name": "Python 3 (ipykernel)",
   "language": "python",
   "name": "python3"
  },
  "language_info": {
   "codemirror_mode": {
    "name": "ipython",
    "version": 3
   },
   "file_extension": ".py",
   "mimetype": "text/x-python",
   "name": "python",
   "nbconvert_exporter": "python",
   "pygments_lexer": "ipython3",
   "version": "3.9.12"
  }
 },
 "nbformat": 4,
 "nbformat_minor": 2
}
