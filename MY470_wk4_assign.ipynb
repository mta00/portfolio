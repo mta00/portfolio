{
 "cells": [
  {
   "cell_type": "markdown",
   "metadata": {
    "slideshow": {
     "slide_type": "slide"
    }
   },
   "source": [
    "### MY470 Computer Programming\n",
    "\n",
    "### Week 4 Assignment, MT 2022\n",
    "\n",
    "#### \\*\\*\\* Due 12:00 noon on Monday, October 24 \\*\\*\\*"
   ]
  },
  {
   "cell_type": "markdown",
   "metadata": {
    "slideshow": {
     "slide_type": "slide"
    }
   },
   "source": [
    "---\n",
    "### Writing your own k-means clustering algorithm\n",
    "\n",
    "K-means clustering is a simple unsupervised machine-learning method for cluster analysis. The aim of the method is to partition a set of points into k clusters, such that each point is assigned to the nearest cluster. The algorithm iterates through two steps:\n",
    "\n",
    "1. Assign each data point to the cluster with the nearest centroid\n",
    "2. Update the centroids of the clusters given the new assignment\n",
    "\n",
    "The algorithm converges when the assignments no longer change. Since the intial assignment to clusters is largely random, there is no guarantee that the optimum assignment is found. So it is common to run the algorithm multiple times and use different starting conditions.\n",
    "\n",
    "In this assignment, we will implement a much simplified version of the k-means clustering algorithm. Rather than running the algorithm until convergence, we will repeat the above two steps a large but fixed number of times. In addition, we will initialize only once, using a naive method according to which we randomly choose k points from the data to use as initial cluster centroids. \n",
    "\n",
    "(In real life, you will of course use a library to implement such an algorithm. In Python, you can do this using [scikit-learn](http://scikit-learn.org/stable/modules/generated/sklearn.cluster.KMeans.html).)\n",
    "\n",
    "For the assignment, we will additionally use data from the file \"Wholesale customers data.csv\". The file contains information on the annual spending on diverse product categories for the clients of a wholesale distributor. The data are obtained from the [UCI Machine Learning Repository](http://archive.ics.uci.edu/ml/index.php) and you can find more information about them [here](http://archive.ics.uci.edu/ml/datasets/Wholesale+customers#).\n",
    "\n",
    "#### Hints\n",
    "\n",
    "Use docstrings to describe your functions. We will subtract points from your mark if you do not use appropriate description of your code."
   ]
  },
  {
   "cell_type": "code",
   "execution_count": 1,
   "metadata": {},
   "outputs": [],
   "source": [
    "# We will first import the modules we need\n",
    "# Edit this cell if you prefer to use alternative modules or libraries\n",
    "\n",
    "# You will need the math module to estimate the square root.\n",
    "# To get the square root of num, use math.sqrt(num)\n",
    "import math\n",
    "import csv\n",
    "import random"
   ]
  },
  {
   "cell_type": "markdown",
   "metadata": {},
   "source": [
    "### Problem 1: Function to estimate Euclidean distance between two points\n",
    "\n",
    "Write a function called `get_distance` that calculates the Euclidean distance between two n-dimensional points. The function should take two lists as arguments, where each list contains the n coordinates of each of the two points. \n",
    "\n",
    "Test your function for the points [0, 3, 0] and [4, 0, 0].\n",
    "\n",
    "#### Hints\n",
    "\n",
    "You can read about the definition of Euclidean distance on [Wikipedia](https://en.wikipedia.org/wiki/Euclidean_distance).\n"
   ]
  },
  {
   "cell_type": "code",
   "execution_count": 2,
   "metadata": {},
   "outputs": [
    {
     "data": {
      "text/plain": [
       "5.0"
      ]
     },
     "execution_count": 2,
     "metadata": {},
     "output_type": "execute_result"
    }
   ],
   "source": [
    "# Enter your answer to Problem 1 below. \n",
    "def get_distance(x,y):\n",
    "    \"\"\"Assumes x and y are the coordinates of n-dimensional points.\n",
    "    Returns the Euclidean distance between the two points.\n",
    "    \"\"\"\n",
    "    s = 0\n",
    "    for i in range(len(x)):\n",
    "        s = s + (x[i] - y[i])**2\n",
    "    return(math.sqrt(s))\n",
    "\n",
    "x = [0, 3, 0]\n",
    "y = [4, 0, 0]\n",
    "\n",
    "get_distance(x,y)"
   ]
  },
  {
   "cell_type": "markdown",
   "metadata": {},
   "source": [
    "### Problem 2: Function to estimate the centroid of a collection of points\n",
    "\n",
    "Write a function called `get_centroid` that estimates the centroid of a collection of n-dimensional points. The function should take one list as an argument, which contains each of the points entered as a list of n coordinates. The function should return a list with the coordinates of the virtual center point.\n",
    "\n",
    "Test your function for the points in `test_lst` entered below.\n",
    "\n",
    "#### Hints\n",
    "\n",
    "The coordinate of the centroid in each dimension is the mean of the coordinates of all the points in that dimension.\n"
   ]
  },
  {
   "cell_type": "code",
   "execution_count": 3,
   "metadata": {
    "scrolled": false
   },
   "outputs": [
    {
     "data": {
      "text/plain": [
       "[0.5, 0.5, 0.5]"
      ]
     },
     "execution_count": 3,
     "metadata": {},
     "output_type": "execute_result"
    }
   ],
   "source": [
    "# Source: Python documentation, zip() function, https://docs.python.org/3/library/functions.html#zip\n",
    "test_lst = [[0,0,0], [0,0,1], [0,1,0], [1,0,0], \n",
    "            [0,1,1], [1,0,1], [1,1,0], [1,1,1]]\n",
    "\n",
    "# Enter your answer to Problem 2 below. \n",
    "def get_centroid(lst):\n",
    "    \"\"\"Assumes that the input is a list of coordinates of several\n",
    "    n-dimensional points. Returns the coordinates for the centroid\n",
    "    of these points.\n",
    "    \"\"\"\n",
    "    sum_coord = len(lst[0]) * [0]\n",
    "    coord = []\n",
    "    for elem in lst:\n",
    "        sum_coord = [sum(i) for i in zip(sum_coord,elem)]\n",
    "    for i in sum_coord:\n",
    "        coord.append(i/len(test_lst))\n",
    "    return(coord)\n",
    "\n",
    "get_centroid(test_lst)"
   ]
  },
  {
   "cell_type": "markdown",
   "metadata": {},
   "source": [
    "---\n",
    "### Problem 3: Function to read data\n",
    "\n",
    "Write a function called `get_data` that opens the file \"Wholesale customers data.csv\" and returns all the data in a list. Each element in the list should be a list of each customer's annual spending on fresh products, milk products, grocery products, frozen products, detergents and paper products, and delicatessen products. In other words, your list should contain 440 elements (customers), each of which contains six numeric elements (amounts spent on products). The function does not need to take any arguments.\n",
    "\n",
    "Test your function by saving the data it returns in a variable called `data`. Then print the first two elements of `data`.\n",
    "\n",
    "\n",
    "#### Hints\n",
    "\n",
    "Use the csv module to read the file. You can read how to do this [here](https://docs.python.org/3/library/csv.html). Make sure you do not include the column names in the data. "
   ]
  },
  {
   "cell_type": "code",
   "execution_count": 4,
   "metadata": {},
   "outputs": [
    {
     "name": "stdout",
     "output_type": "stream",
     "text": [
      "[[12669.0, 9656.0, 7561.0, 214.0, 2674.0, 1338.0], [7057.0, 9810.0, 9568.0, 1762.0, 3293.0, 1776.0]]\n"
     ]
    }
   ],
   "source": [
    "# Source: Python documentation, csv module, https://docs.python.org/3/library/csv.html\n",
    "# Enter your answer to Problem 3 here. \n",
    "def get_data():\n",
    "    \"\"\"Opens the file \"Wholesale customers data.csv\".\n",
    "    Returns a list every element of which is a list of each customer's\n",
    "    spending on fresh products, milk products, grocery products, \n",
    "    frozen products, detergents and paper products, and delicatessen products respectively.\n",
    "    \"\"\"\n",
    "    data = []\n",
    "    with open(\"Wholesale customers data.csv\", newline='') as csvfile:\n",
    "        data_reader = csv.reader(csvfile, delimiter=' ', quotechar='|')\n",
    "        data = []\n",
    "        for row in data_reader:\n",
    "            customer_list = []\n",
    "            split_string = row[0].split(',')\n",
    "            if split_string[0].isnumeric() == True:\n",
    "                for i in range(2,len(split_string)):\n",
    "                    customer_list.append(float(split_string[i]))\n",
    "                data.append(customer_list)\n",
    "    return(data)\n",
    "\n",
    "data = get_data()\n",
    "print(data[:2])"
   ]
  },
  {
   "cell_type": "markdown",
   "metadata": {},
   "source": [
    "---\n",
    "### Problem 4: Function to implement k-means algorithm\n",
    "\n",
    "Write a function called `kmeans` that clusters a collection of points into k clusters using a simplified version of the k-means algorithm. The function should take two arguments: \n",
    "\n",
    "1. `points` – a list of n-dimensional points, and\n",
    "2. `k` – an integer that defines the number of desired clusters. \n",
    "\n",
    "The function should return two things: \n",
    "\n",
    "1. A clustering – a list of `k` clusters, each of which is a list of points (each of which is a list of coordinates)\n",
    "2. A list of the centroids for each of the `k` clusters. Each centroid is essentially a point, so it should be presented as a list of coordinates.\n",
    "\n",
    "Write your code around the detailed comments and the helping code below.\n",
    "\n",
    "Test your function on the data from Problem 3 for k = 3. For each of the three clusters, print the number of customers assigned to it and the cordinates of its centroid.\n"
   ]
  },
  {
   "cell_type": "code",
   "execution_count": 5,
   "metadata": {},
   "outputs": [
    {
     "name": "stdout",
     "output_type": "stream",
     "text": [
      "125 [190683.75, 74801.625, 107571.875, 46491.125, 39090.875, 19014.875]\n",
      "252 [364303.25, 197783.375, 264409.625, 99441.375, 97639.25, 52776.25]\n",
      "63 [105029.375, 46209.625, 65338.75, 23023.75, 21752.0, 12076.75]\n"
     ]
    }
   ],
   "source": [
    "# Enter your answer to Problem 4 in-between the code and comments below. \n",
    "\n",
    "def kmeans(points, k):\n",
    "    \"\"\"Assumes points is a list of coordinates for n-dimensional datapoints, \n",
    "    k is an integer standing for the number of clusters. \n",
    "    Returns clusters and their centroids after performing the k-means clustering algorithm.\n",
    "    \"\"\"\n",
    "    \n",
    "    # Select k random points to use as initial centroids\n",
    "    init = random.sample(points, k)\n",
    "\n",
    "    # Create a list of k lists to contain the points assigned to each cluster.  \n",
    "    clusters = [[] for i in init]\n",
    "    \n",
    "    # Create a list to keep the centroids of the k clusters. \n",
    "    # For now, this list will contain the points from init.\n",
    "    centroids = [i for i in init]\n",
    "    \n",
    "    # You now need to assign each point to the cluster \n",
    "    # with the closest centroid. Use the get_distance function \n",
    "    # you wrote in Problem 1 for this.\n",
    "    for i in points:\n",
    "        distances_list = [get_distance(i,j) for j in centroids]\n",
    "        min_index = distances_list.index(min(distances_list)) \n",
    "        clusters[min_index].append(i)\n",
    "    \n",
    "    # You should then update the variable \"clusters\" to be \n",
    "    # the new clustering and update the variable \"centroids\" \n",
    "    # to contain the centroids of the clusters in this new clustering.\n",
    "    # Use the function you wrote in Problem 2 to estimate the centroids.\n",
    "    centroids = [get_centroid(i) for i in clusters]\n",
    "    \n",
    "    # Repeat the process described above for 100 iterations. \n",
    "    # The idea is that each new repetition refines the clustering \n",
    "    # because it starts from the centroids of the previous clustering. \n",
    "    # If we repeat the process long enough, the assignment to \n",
    "    # clusters and the centroids will become stable.\n",
    "    for i in range(100):\n",
    "        for cl in clusters:\n",
    "            current_cluster_index = clusters.index(cl)\n",
    "            for elem in cl:\n",
    "                distances_list = [get_distance(elem,j) for j in centroids]\n",
    "                min_index = distances_list.index(min(distances_list)) \n",
    "                if elem not in clusters[min_index]:\n",
    "                    clusters[min_index].append(elem)\n",
    "                    clusters[current_cluster_index].remove(elem)\n",
    "        centroids = [get_centroid(i) for i in clusters]\n",
    "    \n",
    "    return(clusters,centroids)\n",
    "\n",
    "clusters, centroids = kmeans(data,3)\n",
    "for cl in clusters:\n",
    "    cluster_index = clusters.index(cl)\n",
    "    print(len(cl), centroids[cluster_index])"
   ]
  },
  {
   "cell_type": "markdown",
   "metadata": {},
   "source": [
    "---\n",
    "\n",
    "### Evaluation\n",
    "\n",
    "| Problem | Mark     | Comment   \n",
    "|:-------:|:--------:|:----------------------\n",
    "| 1       |   /2    |              \n",
    "| 2       |   /2    | \n",
    "| 3       |   /2    | \n",
    "| 4       |   /6    | \n",
    "| Legibility      |   /2    | \n",
    "| Modularity      |   /2    | \n",
    "| Efficiency      |   /4    | \n",
    "|**Total**|**/20**  | "
   ]
  }
 ],
 "metadata": {
  "kernelspec": {
   "display_name": "Python 3 (ipykernel)",
   "language": "python",
   "name": "python3"
  },
  "language_info": {
   "codemirror_mode": {
    "name": "ipython",
    "version": 3
   },
   "file_extension": ".py",
   "mimetype": "text/x-python",
   "name": "python",
   "nbconvert_exporter": "python",
   "pygments_lexer": "ipython3",
   "version": "3.9.12"
  }
 },
 "nbformat": 4,
 "nbformat_minor": 2
}
